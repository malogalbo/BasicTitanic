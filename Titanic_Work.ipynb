{
  "cells": [
    {
      "cell_type": "code",
      "execution_count": 1,
      "metadata": {
        "colab": {
          "base_uri": "https://localhost:8080/"
        },
        "id": "CQrqFyughU8E",
        "outputId": "e05a9d28-b392-407b-e4f4-5a3212bcd980"
      },
      "outputs": [
        {
          "ename": "ModuleNotFoundError",
          "evalue": "No module named 'sklearn'",
          "output_type": "error",
          "traceback": [
            "\u001b[1;31m---------------------------------------------------------------------------\u001b[0m",
            "\u001b[1;31mModuleNotFoundError\u001b[0m                       Traceback (most recent call last)",
            "\u001b[1;32mc:\\College\\PersonalProjects\\ML Projects\\BasicTitanic\\Titanic_Work.ipynb Cell 1'\u001b[0m in \u001b[0;36m<cell line: 8>\u001b[1;34m()\u001b[0m\n\u001b[0;32m      <a href='vscode-notebook-cell:/c%3A/College/PersonalProjects/ML%20Projects/BasicTitanic/Titanic_Work.ipynb#ch0000000?line=3'>4</a>\u001b[0m \u001b[39mimport\u001b[39;00m \u001b[39mjson\u001b[39;00m\n\u001b[0;32m      <a href='vscode-notebook-cell:/c%3A/College/PersonalProjects/ML%20Projects/BasicTitanic/Titanic_Work.ipynb#ch0000000?line=6'>7</a>\u001b[0m \u001b[39mimport\u001b[39;00m \u001b[39mnumpy\u001b[39;00m \u001b[39mas\u001b[39;00m \u001b[39mnp\u001b[39;00m\n\u001b[1;32m----> <a href='vscode-notebook-cell:/c%3A/College/PersonalProjects/ML%20Projects/BasicTitanic/Titanic_Work.ipynb#ch0000000?line=7'>8</a>\u001b[0m \u001b[39mimport\u001b[39;00m \u001b[39msklearn\u001b[39;00m\n\u001b[0;32m      <a href='vscode-notebook-cell:/c%3A/College/PersonalProjects/ML%20Projects/BasicTitanic/Titanic_Work.ipynb#ch0000000?line=8'>9</a>\u001b[0m \u001b[39mimport\u001b[39;00m \u001b[39mpandas\u001b[39;00m \u001b[39mas\u001b[39;00m \u001b[39mpd\u001b[39;00m\n\u001b[0;32m     <a href='vscode-notebook-cell:/c%3A/College/PersonalProjects/ML%20Projects/BasicTitanic/Titanic_Work.ipynb#ch0000000?line=10'>11</a>\u001b[0m \u001b[39mfrom\u001b[39;00m \u001b[39msklearn\u001b[39;00m\u001b[39m.\u001b[39;00m\u001b[39mmodel_selection\u001b[39;00m \u001b[39mimport\u001b[39;00m train_test_split\n",
            "\u001b[1;31mModuleNotFoundError\u001b[0m: No module named 'sklearn'"
          ]
        }
      ],
      "source": [
        "import sys\n",
        "import os\n",
        "import time\n",
        "import json\n",
        "\n",
        "\n",
        "import numpy as np\n",
        "import sklearn\n",
        "import pandas as pd\n",
        "\n",
        "from sklearn.model_selection import train_test_split\n",
        "from sklearn.metrics import accuracy_score\n",
        "import matplotlib.pyplot as plt\n",
        "\n",
        "\n",
        "from sklearn.preprocessing import MinMaxScaler\n",
        "from sklearn.metrics import mean_absolute_error\n",
        "from sklearn.preprocessing import KBinsDiscretizer\n",
        "from sklearn.manifold import TSNE\n",
        "\n",
        "from sklearn import tree"
      ]
    },
    {
      "cell_type": "code",
      "execution_count": 8,
      "metadata": {
        "id": "7wAikS4AhmRP"
      },
      "outputs": [],
      "source": [
        "url = 'https://raw.githubusercontent.com/malogalbo/BasicTitanic/main/data/test.csv'\n",
        "test_data = pd.read_csv(url, encoding='cp1252', index_col = 0, on_bad_lines = \"skip\")\n",
        "url = 'https://raw.githubusercontent.com/malogalbo/BasicTitanic/main/data/train.csv'\n",
        "train_data = pd.read_csv(url, encoding='cp1252', index_col = 0, on_bad_lines = \"skip\")"
      ]
    },
    {
      "cell_type": "code",
      "execution_count": 9,
      "metadata": {
        "id": "5f1Xy5JYiCtG"
      },
      "outputs": [],
      "source": [
        "\n"
      ]
    },
    {
      "cell_type": "markdown",
      "metadata": {
        "id": "n2XSwjiXrBHk"
      },
      "source": [
        "# Loading and Pre-Processing Data"
      ]
    },
    {
      "cell_type": "code",
      "execution_count": 10,
      "metadata": {
        "colab": {
          "base_uri": "https://localhost:8080/"
        },
        "id": "tW0OecVKqMnS",
        "outputId": "755596f3-c508-4175-9c34-cd68eaf8515a"
      },
      "outputs": [
        {
          "name": "stdout",
          "output_type": "stream",
          "text": [
            "[[0 3 'Braund, Mr. Owen Harris' ... 7.25 nan 'S']\n",
            " [1 1 'Cumings, Mrs. John Bradley (Florence Briggs Thayer)' ... 71.2833\n",
            "  'C85' 'C']\n",
            " [1 3 'Heikkinen, Miss. Laina' ... 7.925 nan 'S']\n",
            " ...\n",
            " [0 3 'Johnston, Miss. Catherine Helen \"Carrie\"' ... 23.45 nan 'S']\n",
            " [1 1 'Behr, Mr. Karl Howell' ... 30.0 'C148' 'C']\n",
            " [0 3 'Dooley, Mr. Patrick' ... 7.75 nan 'Q']]\n"
          ]
        }
      ],
      "source": [
        "#Main Cell"
      ]
    },
    {
      "cell_type": "code",
      "execution_count": 11,
      "metadata": {
        "id": "8GC2VvUfitiG"
      },
      "outputs": [],
      "source": [
        "def train_val_split(x, y, prop_vec, shuffle=True, seed=None):\n",
        "\n",
        "    assert x.shape[0] == y.shape[0]\n",
        "    prop_vec = prop_vec / np.sum(prop_vec) # normalize\n",
        "\n",
        "    n = x.shape[0]\n",
        "    n_train = int(np.ceil(n * prop_vec[0]))\n",
        "    n_val = n - n_train\n",
        "\n",
        "    assert np.amin([n_train, n_val]) >= 1   \n",
        "\n",
        "    if shuffle:\n",
        "        rng = np.random.default_rng(seed)\n",
        "        pi = rng.permutation(n)\n",
        "    else:\n",
        "        pi = np.arange(0, n)\n",
        "\n",
        "    pi_train = pi[0:n_train]\n",
        "    pi_val = pi[n_train:n]\n",
        "\n",
        "    train_x = x[pi_train]\n",
        "    train_y = y[pi_train]\n",
        "\n",
        "    val_x = x[pi_val]\n",
        "    val_y = y[pi_val]  \n",
        "    \n",
        "    return train_x, train_y, val_x, val_y"
      ]
    },
    {
      "cell_type": "markdown",
      "metadata": {
        "id": "vybHflz3o7BM"
      },
      "source": [
        "One Hot Encode:\n",
        "\"Pclass\" 3rd, \"Embarked\" \n",
        "\n",
        "From String to Bool:\n",
        "\"Sex\" 5th\n",
        "\n",
        "Normalize/Standardize\n",
        "\"Fare\"\n",
        "\"Age\"\n",
        "\"Parch\"\n",
        "\"sibsp\"\n",
        "\n",
        "\n",
        "Ignore/Rid \n",
        "\"Name\" 4th\n",
        "PassengerID 1st\n",
        "\"ticket\"\n",
        "\n",
        "\n",
        "Perhaps?\n",
        "\"Cabin\"\n",
        "\n",
        "\n",
        "y-column:\n",
        "\"Survived\" 2nd"
      ]
    },
    {
      "cell_type": "code",
      "execution_count": 12,
      "metadata": {
        "id": "bQm3EJALmkwp"
      },
      "outputs": [],
      "source": [
        "# Clean According To Above\n",
        "\n",
        "# Extract y-column from training\n",
        "\n",
        "# Then Split"
      ]
    },
    {
      "cell_type": "code",
      "execution_count": null,
      "metadata": {},
      "outputs": [],
      "source": [
        "#Drop Name, Cabin, Ticket\n",
        "names = ['Name', 'Cabin', 'Ticket']\n",
        "train_data = train_data.drop(columns=names, axis=1)\n",
        "test_data = test_data.drop(columns=names, axis=1)\n",
        "print(train_data.info())"
      ]
    },
    {
      "cell_type": "code",
      "execution_count": null,
      "metadata": {},
      "outputs": [],
      "source": [
        "#extract y\n",
        "train_y = train_x.locate[:, \"Survived\"]\n",
        "train_x.drop(columns=['Survived'], axis=1)\n",
        "\n",
        "test_y = test_y.locate[:, \"Survived\"]\n",
        "test_x.drop(columns=['Survived'], axis=1)\n",
        "\n",
        "print(train_y)"
      ]
    },
    {
      "cell_type": "code",
      "execution_count": null,
      "metadata": {},
      "outputs": [],
      "source": [
        "test_data = test_data.to_numpy()\n",
        "train_data = train_data.to_numpy()\n"
      ]
    },
    {
      "cell_type": "code",
      "execution_count": null,
      "metadata": {},
      "outputs": [],
      "source": [
        "#one hot encode categorical variables\n",
        "from sklearn.preprocessing import OneHotEncoder\n",
        "encoder = OneHotEncoder(handle_unknown='ignore')\n",
        "\n",
        "features_to_standardize = [2, 8]\n",
        "\n",
        "#train_x\n",
        "tmp = encoder.fit_transform(train_x[:, features_to_standardize]).toarray() #encode data\n",
        "\n",
        "train_x = np.delete(train_x, features_to_standardize, 1) #delete all old cat columns, 1 for col\n",
        "train_x = np.concatenate((train_x, tmp), axis = 1) #add encoded variables to train_x\n",
        "\n",
        "#test_x\n",
        "tmp = encoder.fit_transform(test_x[:, features_to_standardize]).toarray()\n",
        "\n",
        "test_x = np.delete(test_x, features_to_standardize, 1) #delete all old cat columns, 1 for col\n",
        "test_x = np.concatenate((test_x, tmp), axis = 1)"
      ]
    },
    {
      "cell_type": "code",
      "execution_count": null,
      "metadata": {},
      "outputs": [],
      "source": [
        "#convert sex from string to bool\n",
        "for i, sex in enumerate(train_x.T[3]): \n",
        "    if (sex == \"male\"):\n",
        "        train_x[i, 3] = 1\n",
        "    else: \n",
        "        train_x[i, 3] = 0\n",
        "for i, sex in enumerate(test_x.T[3]): \n",
        "    if (sex == \"male\"):\n",
        "        test_x[i, 3] = 1\n",
        "    else: \n",
        "        test_x[i, 3] = 0\n"
      ]
    }
  ],
  "metadata": {
    "colab": {
      "collapsed_sections": [],
      "name": "Titanic Work.ipynb",
      "provenance": []
    },
    "kernelspec": {
      "display_name": "Python 3.10.5 64-bit",
      "language": "python",
      "name": "python3"
    },
    "language_info": {
      "codemirror_mode": {
        "name": "ipython",
        "version": 3
      },
      "file_extension": ".py",
      "mimetype": "text/x-python",
      "name": "python",
      "nbconvert_exporter": "python",
      "pygments_lexer": "ipython3",
      "version": "3.10.5"
    },
    "vscode": {
      "interpreter": {
        "hash": "57a77d25628f993b8531a82270d9f20d6d55a686db3b097ce90dea79817ec493"
      }
    }
  },
  "nbformat": 4,
  "nbformat_minor": 2
}
