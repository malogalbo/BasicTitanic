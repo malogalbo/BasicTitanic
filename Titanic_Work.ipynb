{
  "nbformat": 4,
  "nbformat_minor": 2,
  "metadata": {
    "colab": {
      "name": "Titanic Work.ipynb",
      "provenance": [],
      "collapsed_sections": []
    },
    "kernelspec": {
      "name": "cis4930",
      "display_name": "CIS4930",
      "language": "python"
    },
    "language_info": {
      "name": "python",
      "version": "3.9.9",
      "mimetype": "text/x-python",
      "codemirror_mode": {
        "name": "ipython",
        "version": 3
      },
      "pygments_lexer": "ipython3",
      "nbconvert_exporter": "python",
      "file_extension": ".py"
    }
  },
  "cells": [
    {
      "cell_type": "code",
      "execution_count": 11,
      "source": [
        "import sys\n",
        "import os\n",
        "import time\n",
        "import json\n",
        "\n",
        "\n",
        "import numpy as np\n",
        "import sklearn\n",
        "import pandas as pd\n",
        "\n",
        "from sklearn.model_selection import train_test_split\n",
        "from sklearn.metrics import accuracy_score\n",
        "import matplotlib.pyplot as plt\n",
        "\n",
        "\n",
        "from sklearn.preprocessing import MinMaxScaler\n",
        "from sklearn.metrics import mean_absolute_error\n",
        "from sklearn.preprocessing import KBinsDiscretizer\n",
        "from sklearn.manifold import TSNE\n",
        "\n",
        "from sklearn import tree"
      ],
      "outputs": [],
      "metadata": {
        "colab": {
          "base_uri": "https://localhost:8080/"
        },
        "id": "CQrqFyughU8E",
        "outputId": "e05a9d28-b392-407b-e4f4-5a3212bcd980"
      }
    },
    {
      "cell_type": "code",
      "execution_count": 12,
      "source": [
        "url = 'https://raw.githubusercontent.com/malogalbo/BasicTitanic/main/data/test.csv'\n",
        "test_data = pd.read_csv(url, encoding='cp1252', index_col = 0, on_bad_lines = \"skip\")\n",
        "url = 'https://raw.githubusercontent.com/malogalbo/BasicTitanic/main/data/train.csv'\n",
        "train_data = pd.read_csv(url, encoding='cp1252', index_col = 0, on_bad_lines = \"skip\")"
      ],
      "outputs": [],
      "metadata": {
        "id": "7wAikS4AhmRP"
      }
    },
    {
      "cell_type": "markdown",
      "source": [
        "# Loading and Pre-Processing Data"
      ],
      "metadata": {
        "id": "n2XSwjiXrBHk"
      }
    },
    {
      "cell_type": "code",
      "execution_count": 13,
      "source": [
        "def train_val_split(x, y, prop_vec, shuffle=True, seed=None):\n",
        "\n",
        "    assert x.shape[0] == y.shape[0]\n",
        "    prop_vec = prop_vec / np.sum(prop_vec) # normalize\n",
        "\n",
        "    n = x.shape[0]\n",
        "    n_train = int(np.ceil(n * prop_vec[0]))\n",
        "    n_val = n - n_train\n",
        "\n",
        "    assert np.amin([n_train, n_val]) >= 1   \n",
        "\n",
        "    if shuffle:\n",
        "        rng = np.random.default_rng(seed)\n",
        "        pi = rng.permutation(n)\n",
        "    else:\n",
        "        pi = np.arange(0, n)\n",
        "\n",
        "    pi_train = pi[0:n_train]\n",
        "    pi_val = pi[n_train:n]\n",
        "\n",
        "    train_x = x[pi_train]\n",
        "    train_y = y[pi_train]\n",
        "\n",
        "    val_x = x[pi_val]\n",
        "    val_y = y[pi_val]  \n",
        "    \n",
        "    return train_x, train_y, val_x, val_y"
      ],
      "outputs": [],
      "metadata": {
        "id": "8GC2VvUfitiG"
      }
    },
    {
      "cell_type": "markdown",
      "source": [
        "One Hot Encode:\n",
        "\"Pclass\" 3rd, \"Embarked\" \n",
        "\n",
        "From String to Bool:\n",
        "\"Sex\" 5th\n",
        "\n",
        "Normalize/Standardize\n",
        "\"Fare\"\n",
        "\"Age\"\n",
        "\"Parch\"\n",
        "\"sibsp\"\n",
        "\n",
        "\n",
        "y-column:\n",
        "\"Survived\" 2nd"
      ],
      "metadata": {
        "id": "vybHflz3o7BM"
      }
    },
    {
      "cell_type": "code",
      "execution_count": 14,
      "source": [
        "#4,5,6 \n",
        "print(train_data.info())"
      ],
      "outputs": [
        {
          "output_type": "stream",
          "name": "stdout",
          "text": [
            "<class 'pandas.core.frame.DataFrame'>\n",
            "Int64Index: 891 entries, 1 to 891\n",
            "Data columns (total 11 columns):\n",
            " #   Column    Non-Null Count  Dtype  \n",
            "---  ------    --------------  -----  \n",
            " 0   Survived  891 non-null    int64  \n",
            " 1   Pclass    891 non-null    int64  \n",
            " 2   Name      891 non-null    object \n",
            " 3   Sex       891 non-null    object \n",
            " 4   Age       714 non-null    float64\n",
            " 5   SibSp     891 non-null    int64  \n",
            " 6   Parch     891 non-null    int64  \n",
            " 7   Ticket    891 non-null    object \n",
            " 8   Fare      891 non-null    float64\n",
            " 9   Cabin     204 non-null    object \n",
            " 10  Embarked  889 non-null    object \n",
            "dtypes: float64(2), int64(4), object(5)\n",
            "memory usage: 83.5+ KB\n",
            "None\n"
          ]
        }
      ],
      "metadata": {}
    },
    {
      "cell_type": "code",
      "execution_count": 15,
      "source": [
        "#Drop Name, Cabin, Ticket\n",
        "names = ['Name', 'Cabin', 'Ticket']\n",
        "train_data = train_data.drop(columns=names, axis=1)\n",
        "test_data = test_data.drop(columns=names, axis=1)\n",
        "print(train_data.info())\n"
      ],
      "outputs": [
        {
          "output_type": "stream",
          "name": "stdout",
          "text": [
            "<class 'pandas.core.frame.DataFrame'>\n",
            "Int64Index: 891 entries, 1 to 891\n",
            "Data columns (total 8 columns):\n",
            " #   Column    Non-Null Count  Dtype  \n",
            "---  ------    --------------  -----  \n",
            " 0   Survived  891 non-null    int64  \n",
            " 1   Pclass    891 non-null    int64  \n",
            " 2   Sex       891 non-null    object \n",
            " 3   Age       714 non-null    float64\n",
            " 4   SibSp     891 non-null    int64  \n",
            " 5   Parch     891 non-null    int64  \n",
            " 6   Fare      891 non-null    float64\n",
            " 7   Embarked  889 non-null    object \n",
            "dtypes: float64(2), int64(4), object(2)\n",
            "memory usage: 62.6+ KB\n",
            "None\n"
          ]
        }
      ],
      "metadata": {}
    },
    {
      "cell_type": "code",
      "execution_count": 34,
      "source": [
        "# Clean According To Above\n",
        "\n",
        "# Extract y-column from training\n",
        "\n",
        "# Then Split"
      ],
      "outputs": [],
      "metadata": {
        "id": "bQm3EJALmkwp"
      }
    }
  ]
}