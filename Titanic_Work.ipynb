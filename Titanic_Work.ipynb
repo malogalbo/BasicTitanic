{
  "nbformat": 4,
  "nbformat_minor": 2,
  "metadata": {
    "colab": {
      "name": "Titanic Work.ipynb",
      "provenance": [],
      "collapsed_sections": []
    },
    "kernelspec": {
      "name": "cis4930",
      "display_name": "CIS4930",
      "language": "python"
    },
    "language_info": {
      "name": "python",
      "version": "3.9.9",
      "mimetype": "text/x-python",
      "codemirror_mode": {
        "name": "ipython",
        "version": 3
      },
      "pygments_lexer": "ipython3",
      "nbconvert_exporter": "python",
      "file_extension": ".py"
    }
  },
  "cells": [
    {
      "cell_type": "code",
      "execution_count": 7,
      "source": [
        "import sys\n",
        "import os\n",
        "import time\n",
        "import json\n",
        "\n",
        "\n",
        "import numpy as np\n",
        "import sklearn\n",
        "import pandas as pd\n",
        "\n",
        "from sklearn.model_selection import train_test_split\n",
        "from sklearn.metrics import accuracy_score\n",
        "import matplotlib.pyplot as plt\n",
        "\n",
        "\n",
        "from sklearn.preprocessing import MinMaxScaler\n",
        "from sklearn.metrics import mean_absolute_error\n",
        "from sklearn.preprocessing import KBinsDiscretizer\n",
        "from sklearn.manifold import TSNE\n",
        "\n",
        "from sklearn import tree"
      ],
      "outputs": [],
      "metadata": {
        "colab": {
          "base_uri": "https://localhost:8080/"
        },
        "id": "CQrqFyughU8E",
        "outputId": "e05a9d28-b392-407b-e4f4-5a3212bcd980"
      }
    },
    {
      "cell_type": "code",
      "execution_count": 8,
      "source": [
        "url = 'https://raw.githubusercontent.com/malogalbo/BasicTitanic/main/data/test.csv'\n",
        "test_data = pd.read_csv(url, encoding='cp1252', index_col = 0, on_bad_lines = \"skip\")\n",
        "url = 'https://raw.githubusercontent.com/malogalbo/BasicTitanic/main/data/train.csv'\n",
        "train_data = pd.read_csv(url, encoding='cp1252', index_col = 0, on_bad_lines = \"skip\")"
      ],
      "outputs": [],
      "metadata": {
        "id": "7wAikS4AhmRP"
      }
    },
    {
      "cell_type": "code",
      "execution_count": 9,
      "source": [
        "test_data = test_data.to_numpy()\n",
        "train_data = train_data.to_numpy()\n",
        "\n"
      ],
      "outputs": [],
      "metadata": {
        "id": "5f1Xy5JYiCtG"
      }
    },
    {
      "cell_type": "markdown",
      "source": [
        "# Loading and Pre-Processing Data"
      ],
      "metadata": {
        "id": "n2XSwjiXrBHk"
      }
    },
    {
      "cell_type": "code",
      "execution_count": 10,
      "source": [
        "#Main Cell"
      ],
      "outputs": [
        {
          "output_type": "stream",
          "name": "stdout",
          "text": [
            "[[0 3 'Braund, Mr. Owen Harris' ... 7.25 nan 'S']\n",
            " [1 1 'Cumings, Mrs. John Bradley (Florence Briggs Thayer)' ... 71.2833\n",
            "  'C85' 'C']\n",
            " [1 3 'Heikkinen, Miss. Laina' ... 7.925 nan 'S']\n",
            " ...\n",
            " [0 3 'Johnston, Miss. Catherine Helen \"Carrie\"' ... 23.45 nan 'S']\n",
            " [1 1 'Behr, Mr. Karl Howell' ... 30.0 'C148' 'C']\n",
            " [0 3 'Dooley, Mr. Patrick' ... 7.75 nan 'Q']]\n"
          ]
        }
      ],
      "metadata": {
        "id": "tW0OecVKqMnS",
        "outputId": "755596f3-c508-4175-9c34-cd68eaf8515a",
        "colab": {
          "base_uri": "https://localhost:8080/"
        }
      }
    },
    {
      "cell_type": "code",
      "execution_count": 11,
      "source": [
        "def train_val_split(x, y, prop_vec, shuffle=True, seed=None):\n",
        "\n",
        "    assert x.shape[0] == y.shape[0]\n",
        "    prop_vec = prop_vec / np.sum(prop_vec) # normalize\n",
        "\n",
        "    n = x.shape[0]\n",
        "    n_train = int(np.ceil(n * prop_vec[0]))\n",
        "    n_val = n - n_train\n",
        "\n",
        "    assert np.amin([n_train, n_val]) >= 1   \n",
        "\n",
        "    if shuffle:\n",
        "        rng = np.random.default_rng(seed)\n",
        "        pi = rng.permutation(n)\n",
        "    else:\n",
        "        pi = np.arange(0, n)\n",
        "\n",
        "    pi_train = pi[0:n_train]\n",
        "    pi_val = pi[n_train:n]\n",
        "\n",
        "    train_x = x[pi_train]\n",
        "    train_y = y[pi_train]\n",
        "\n",
        "    val_x = x[pi_val]\n",
        "    val_y = y[pi_val]  \n",
        "    \n",
        "    return train_x, train_y, val_x, val_y"
      ],
      "outputs": [],
      "metadata": {
        "id": "8GC2VvUfitiG"
      }
    },
    {
      "cell_type": "markdown",
      "source": [
        "One Hot Encode:\n",
        "\"Pclass\" 3rd, \"Embarked\" \n",
        "\n",
        "From String to Bool:\n",
        "\"Sex\" 5th\n",
        "\n",
        "Normalize/Standardize\n",
        "\"Fare\"\n",
        "\"Age\"\n",
        "\"Parch\"\n",
        "\"sibsp\"\n",
        "\n",
        "\n",
        "Ignore/Rid \n",
        "\"Name\" 4th\n",
        "PassengerID 1st\n",
        "\"ticket\"\n",
        "\n",
        "\n",
        "Perhaps?\n",
        "\"Cabin\"\n",
        "\n",
        "\n",
        "y-column:\n",
        "\"Survived\" 2nd"
      ],
      "metadata": {
        "id": "vybHflz3o7BM"
      }
    },
    {
      "cell_type": "code",
      "execution_count": 12,
      "source": [
        "# Clean According To Above\n",
        "\n",
        "# Extract y-column from training\n",
        "\n",
        "# Then Split"
      ],
      "outputs": [],
      "metadata": {
        "id": "bQm3EJALmkwp"
      }
    }
  ]
}