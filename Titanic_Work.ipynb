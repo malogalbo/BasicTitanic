{
  "cells": [
    {
      "cell_type": "code",
      "execution_count": 4,
      "metadata": {
        "colab": {
          "base_uri": "https://localhost:8080/"
        },
        "id": "CQrqFyughU8E",
        "outputId": "e05a9d28-b392-407b-e4f4-5a3212bcd980"
      },
      "outputs": [
        {
          "name": "stderr",
          "output_type": "stream",
          "text": [
            "Matplotlib is building the font cache; this may take a moment.\n"
          ]
        }
      ],
      "source": [
        "import sys\n",
        "import os\n",
        "import time\n",
        "import json\n",
        "\n",
        "\n",
        "import numpy as np\n",
        "import sklearn\n",
        "import pandas as pd\n",
        "\n",
        "from sklearn.model_selection import train_test_split\n",
        "from sklearn.metrics import accuracy_score\n",
        "import matplotlib.pyplot as plt\n",
        "\n",
        "\n",
        "from sklearn.preprocessing import MinMaxScaler\n",
        "from sklearn.metrics import mean_absolute_error\n",
        "from sklearn.preprocessing import KBinsDiscretizer\n",
        "from sklearn.manifold import TSNE\n",
        "\n",
        "from sklearn import tree"
      ]
    },
    {
      "cell_type": "code",
      "execution_count": 48,
      "metadata": {
        "id": "7wAikS4AhmRP"
      },
      "outputs": [],
      "source": [
        "url = 'https://raw.githubusercontent.com/malogalbo/BasicTitanic/main/data/test.csv'\n",
        "test_data = pd.read_csv(url, encoding='cp1252', index_col = 0, on_bad_lines = \"skip\")\n",
        "url = 'https://raw.githubusercontent.com/malogalbo/BasicTitanic/main/data/train.csv'\n",
        "train_data = pd.read_csv(url, encoding='cp1252', index_col = 0, on_bad_lines = \"skip\")"
      ]
    },
    {
      "cell_type": "code",
      "execution_count": 9,
      "metadata": {
        "id": "5f1Xy5JYiCtG"
      },
      "outputs": [],
      "source": [
        "\n"
      ]
    },
    {
      "cell_type": "markdown",
      "metadata": {
        "id": "n2XSwjiXrBHk"
      },
      "source": [
        "# Loading and Pre-Processing Data"
      ]
    },
    {
      "cell_type": "code",
      "execution_count": 10,
      "metadata": {
        "colab": {
          "base_uri": "https://localhost:8080/"
        },
        "id": "tW0OecVKqMnS",
        "outputId": "755596f3-c508-4175-9c34-cd68eaf8515a"
      },
      "outputs": [
        {
          "name": "stdout",
          "output_type": "stream",
          "text": [
            "[[0 3 'Braund, Mr. Owen Harris' ... 7.25 nan 'S']\n",
            " [1 1 'Cumings, Mrs. John Bradley (Florence Briggs Thayer)' ... 71.2833\n",
            "  'C85' 'C']\n",
            " [1 3 'Heikkinen, Miss. Laina' ... 7.925 nan 'S']\n",
            " ...\n",
            " [0 3 'Johnston, Miss. Catherine Helen \"Carrie\"' ... 23.45 nan 'S']\n",
            " [1 1 'Behr, Mr. Karl Howell' ... 30.0 'C148' 'C']\n",
            " [0 3 'Dooley, Mr. Patrick' ... 7.75 nan 'Q']]\n"
          ]
        }
      ],
      "source": [
        "#Main Cell"
      ]
    },
    {
      "cell_type": "code",
      "execution_count": 11,
      "metadata": {
        "id": "8GC2VvUfitiG"
      },
      "outputs": [],
      "source": [
        "def train_val_split(x, y, prop_vec, shuffle=True, seed=None):\n",
        "\n",
        "    assert x.shape[0] == y.shape[0]\n",
        "    prop_vec = prop_vec / np.sum(prop_vec) # normalize\n",
        "\n",
        "    n = x.shape[0]\n",
        "    n_train = int(np.ceil(n * prop_vec[0]))\n",
        "    n_val = n - n_train\n",
        "\n",
        "    assert np.amin([n_train, n_val]) >= 1   \n",
        "\n",
        "    if shuffle:\n",
        "        rng = np.random.default_rng(seed)\n",
        "        pi = rng.permutation(n)\n",
        "    else:\n",
        "        pi = np.arange(0, n)\n",
        "\n",
        "    pi_train = pi[0:n_train]\n",
        "    pi_val = pi[n_train:n]\n",
        "\n",
        "    train_x = x[pi_train]\n",
        "    train_y = y[pi_train]\n",
        "\n",
        "    val_x = x[pi_val]\n",
        "    val_y = y[pi_val]  \n",
        "    \n",
        "    return train_x, train_y, val_x, val_y"
      ]
    },
    {
      "cell_type": "markdown",
      "metadata": {
        "id": "vybHflz3o7BM"
      },
      "source": [
        "One Hot Encode:\n",
        "\"Pclass\" 3rd, \"Embarked\" \n",
        "\n",
        "From String to Bool:\n",
        "\"Sex\" 5th\n",
        "\n",
        "Normalize/Standardize\n",
        "\"Fare\"\n",
        "\"Age\"\n",
        "\"Parch\"\n",
        "\"sibsp\"\n",
        "\n",
        "\n",
        "Ignore/Rid \n",
        "\"Name\" 4th\n",
        "PassengerID 1st\n",
        "\"ticket\"\n",
        "\n",
        "\n",
        "Perhaps?\n",
        "\"Cabin\"\n",
        "\n",
        "\n",
        "y-column:\n",
        "\"Survived\" 2nd"
      ]
    },
    {
      "cell_type": "code",
      "execution_count": 12,
      "metadata": {
        "id": "bQm3EJALmkwp"
      },
      "outputs": [],
      "source": [
        "# Clean According To Above\n",
        "\n",
        "# Extract y-column from training\n",
        "\n",
        "# Then Split"
      ]
    },
    {
      "cell_type": "code",
      "execution_count": 49,
      "metadata": {},
      "outputs": [
        {
          "name": "stdout",
          "output_type": "stream",
          "text": [
            "<class 'pandas.core.frame.DataFrame'>\n",
            "Int64Index: 891 entries, 1 to 891\n",
            "Data columns (total 8 columns):\n",
            " #   Column    Non-Null Count  Dtype  \n",
            "---  ------    --------------  -----  \n",
            " 0   Survived  891 non-null    int64  \n",
            " 1   Pclass    891 non-null    int64  \n",
            " 2   Sex       891 non-null    object \n",
            " 3   Age       714 non-null    float64\n",
            " 4   SibSp     891 non-null    int64  \n",
            " 5   Parch     891 non-null    int64  \n",
            " 6   Fare      891 non-null    float64\n",
            " 7   Embarked  889 non-null    object \n",
            "dtypes: float64(2), int64(4), object(2)\n",
            "memory usage: 62.6+ KB\n",
            "None\n"
          ]
        }
      ],
      "source": [
        "#Drop Name, Cabin, Ticket\n",
        "names = ['Name', 'Cabin', 'Ticket']\n",
        "train_data = train_data.drop(columns=names, axis=1)\n",
        "test_data = test_data.drop(columns=names, axis=1)\n",
        "print(train_data.info())"
      ]
    },
    {
      "cell_type": "code",
      "execution_count": 50,
      "metadata": {},
      "outputs": [
        {
          "name": "stdout",
          "output_type": "stream",
          "text": [
            "PassengerId\n",
            "1      0\n",
            "2      1\n",
            "3      1\n",
            "4      1\n",
            "5      0\n",
            "      ..\n",
            "887    0\n",
            "888    1\n",
            "889    0\n",
            "890    1\n",
            "891    0\n",
            "Name: Survived, Length: 891, dtype: int64\n"
          ]
        }
      ],
      "source": [
        "#extract y\n",
        "train_y = train_data.loc[:, \"Survived\"]\n",
        "train_x = train_data.drop(columns=['Survived'], axis=1)\n",
        "\n",
        "#no test y\n",
        "test_x = test_data\n",
        "\n",
        "print(train_y)"
      ]
    },
    {
      "cell_type": "code",
      "execution_count": 51,
      "metadata": {},
      "outputs": [],
      "source": [
        "test_x = test_x.to_numpy()\n",
        "train_x = train_x.to_numpy()\n",
        "train_y = train_y.to_numpy()\n",
        "\n"
      ]
    },
    {
      "cell_type": "code",
      "execution_count": 52,
      "metadata": {},
      "outputs": [
        {
          "name": "stdout",
          "output_type": "stream",
          "text": [
            "[3 'male' 22.0 1 0 7.25 'S']\n",
            "[3 'male' 34.5 0 0 7.8292 'Q']\n"
          ]
        }
      ],
      "source": [
        "print(train_x[0])\n",
        "print(test_x[0])"
      ]
    },
    {
      "cell_type": "code",
      "execution_count": 53,
      "metadata": {},
      "outputs": [],
      "source": [
        "#one hot encode categorical variables\n",
        "from sklearn.preprocessing import OneHotEncoder\n",
        "encoder = OneHotEncoder(handle_unknown='ignore')\n",
        "\n",
        "features_to_standardize = [0, 6] #pclass and embarked\n",
        "\n",
        "#train_x\n",
        "tmp = encoder.fit_transform(train_x[:, features_to_standardize]).toarray() #encode data\n",
        "\n",
        "train_x = np.delete(train_x, features_to_standardize, 1) #delete all old cat columns, 1 for col\n",
        "train_x = np.concatenate((train_x, tmp), axis = 1) #add encoded variables to train_x\n",
        "\n",
        "#test_x\n",
        "tmp = encoder.fit_transform(test_x[:, features_to_standardize]).toarray()\n",
        "\n",
        "test_x = np.delete(test_x, features_to_standardize, 1) #delete all old cat columns, 1 for col\n",
        "test_x = np.concatenate((test_x, tmp), axis = 1)"
      ]
    },
    {
      "cell_type": "code",
      "execution_count": 54,
      "metadata": {},
      "outputs": [
        {
          "name": "stdout",
          "output_type": "stream",
          "text": [
            "['male' 22.0 1 0 7.25 0.0 0.0 1.0 0.0 0.0 1.0 0.0]\n",
            "['male' 34.5 0 0 7.8292 0.0 0.0 1.0 0.0 1.0 0.0]\n"
          ]
        }
      ],
      "source": [
        "print(train_x[0])\n",
        "print(test_x[0])"
      ]
    },
    {
      "cell_type": "code",
      "execution_count": 55,
      "metadata": {},
      "outputs": [],
      "source": [
        "#convert sex from string to bool\n",
        "for i, sex in enumerate(train_x.T[0]): \n",
        "    if (sex == \"male\"):\n",
        "        train_x[i, 0] = 1\n",
        "    else: \n",
        "        train_x[i, 0] = 0\n",
        "for i, sex in enumerate(test_x.T[0]): \n",
        "    if (sex == \"male\"):\n",
        "        test_x[i, 0] = 1\n",
        "    else: \n",
        "        test_x[i, 0] = 0\n"
      ]
    },
    {
      "cell_type": "code",
      "execution_count": 56,
      "metadata": {},
      "outputs": [
        {
          "name": "stdout",
          "output_type": "stream",
          "text": [
            "[1 22.0 1 0 7.25 0.0 0.0 1.0 0.0 0.0 1.0 0.0]\n"
          ]
        }
      ],
      "source": [
        "print(train_x[0])"
      ]
    }
  ],
  "metadata": {
    "colab": {
      "collapsed_sections": [],
      "name": "Titanic Work.ipynb",
      "provenance": []
    },
    "kernelspec": {
      "display_name": "Python 3.10.5 64-bit",
      "language": "python",
      "name": "python3"
    },
    "language_info": {
      "codemirror_mode": {
        "name": "ipython",
        "version": 3
      },
      "file_extension": ".py",
      "mimetype": "text/x-python",
      "name": "python",
      "nbconvert_exporter": "python",
      "pygments_lexer": "ipython3",
      "version": "3.10.5"
    },
    "vscode": {
      "interpreter": {
        "hash": "57a77d25628f993b8531a82270d9f20d6d55a686db3b097ce90dea79817ec493"
      }
    }
  },
  "nbformat": 4,
  "nbformat_minor": 2
}
